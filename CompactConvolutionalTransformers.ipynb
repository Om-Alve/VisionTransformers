{
 "cells": [
  {
   "cell_type": "code",
   "execution_count": null,
   "metadata": {
    "colab": {
     "base_uri": "https://localhost:8080/"
    },
    "id": "OkgjbSytOZ5V",
    "outputId": "2c172f17-8de2-4f23-a553-cf946c61ca31"
   },
   "outputs": [],
   "source": [
    "import torch\n",
    "from torchvision import datasets, transforms\n",
    "\n",
    "cifar10_mean, cifar10_std = [0.4914, 0.4822, 0.4465], [0.2470, 0.2435, 0.2616]\n",
    "transform = transforms.Compose(\n",
    "    [transforms.ToTensor(),\n",
    "     transforms.Normalize(cifar10_mean, cifar10_std)])\n",
    "\n",
    "# Download and prepare the CIFAR-10 dataset\n",
    "train_data = datasets.CIFAR10(root='./data', train=True, download=True, transform=transform)\n",
    "test_data = datasets.CIFAR10(root='./data', train=False, download=True, transform=transform)\n",
    "\n",
    "# Create DataLoaders to efficiently load and iterate through the dataset\n",
    "train_loader = torch.utils.data.DataLoader(train_data, batch_size=256, shuffle=True)\n",
    "test_loader = torch.utils.data.DataLoader(test_data, batch_size=256, shuffle=False)"
   ]
  },
  {
   "cell_type": "code",
   "execution_count": null,
   "metadata": {
    "id": "q-FtmQjEOb1v",
    "tags": []
   },
   "outputs": [],
   "source": [
    "import torch\n",
    "import torch.nn as nn\n",
    "import torch.nn.functional as F\n",
    "from torch.utils.data import Dataset, DataLoader\n",
    "import random\n",
    "\n",
    "class Tokenizer(nn.Module):\n",
    "    def __init__(self, in_channels=3, n_embed=128):\n",
    "        super().__init__()\n",
    "        self.patch = nn.Sequential(\n",
    "            nn.Conv2d(in_channels, n_embed, kernel_size=(3, 3), stride=1, padding=1, bias=False),\n",
    "            nn.ReLU(),\n",
    "            nn.MaxPool2d(kernel_size=(3, 3), stride=2, padding=1),\n",
    "        )\n",
    "\n",
    "    def forward(self, x):\n",
    "        return self.patch(x).flatten(2, 3).transpose(-2, -1)\n",
    "\n",
    "class Head(nn.Module):\n",
    "    def __init__(self, n_embed, head_size, dropout):\n",
    "        super().__init__()\n",
    "        self.qkv = nn.Linear(n_embed, head_size * 3, bias=False)\n",
    "        self.attention_dropout = nn.Dropout(dropout)\n",
    "\n",
    "    def forward(self, x, attention_mask=None):\n",
    "        B, T, C = x.shape\n",
    "        q, k, v = self.qkv(x).chunk(3, dim=2)\n",
    "        w = torch.bmm(k, q.transpose(-2, -1)) * (n_embed ** -0.5)\n",
    "        if attention_mask is not None:\n",
    "            attention_mask = attention_mask.unsqueeze(-1).float()\n",
    "            w = w * attention_mask\n",
    "        w = F.softmax(w, dim=-1)\n",
    "        w = self.attention_dropout(w)\n",
    "        out = torch.bmm(w, v)\n",
    "        return out\n",
    "\n",
    "class MultiHead(nn.Module):\n",
    "    def __init__(self, n_embed, head_size, n_heads,dropout):\n",
    "        super().__init__()\n",
    "        self.heads = nn.ModuleList([Head(n_embed, head_size, dropout) for _ in range(n_heads)])\n",
    "        self.proj = nn.Linear(n_embed, n_embed)\n",
    "\n",
    "    def forward(self, x, attention_mask):\n",
    "        out = torch.cat([head(x, attention_mask) for head in self.heads], -1)\n",
    "        out = self.proj(out)\n",
    "        return out\n",
    "\n",
    "class FeedForward(nn.Module):\n",
    "    def __init__(self, n_embed, mlp_ratio, dropout):\n",
    "        super().__init__()\n",
    "        self.net = nn.Sequential(\n",
    "            nn.Linear(n_embed, n_embed * mlp_ratio),\n",
    "            nn.GELU(),\n",
    "            nn.Linear(n_embed * mlp_ratio, n_embed),\n",
    "            nn.Dropout(dropout),\n",
    "        )\n",
    "\n",
    "    def forward(self, x):\n",
    "        return self.net(x)\n",
    "\n",
    "class Block(nn.Module):\n",
    "    def __init__(self, n_embed, head_size, n_heads, mlp_ratio, dropout):\n",
    "        super().__init__()\n",
    "        self.multihead = MultiHead(n_embed, head_size, n_heads,dropout)\n",
    "        self.ffwd = FeedForward(n_embed, mlp_ratio, dropout)\n",
    "        self.ln1 = nn.LayerNorm(n_embed)\n",
    "        self.ln2 = nn.LayerNorm(n_embed)\n",
    "\n",
    "    def forward(self, x, attention_mask):\n",
    "        x = self.ln1(x)\n",
    "        x = x + self.multihead(x, attention_mask)\n",
    "        x = self.ln2(x)\n",
    "        x = x + self.ffwd(x)\n",
    "        return x\n",
    "\n",
    "class ViT(nn.Module):\n",
    "    def __init__(self, in_channels=3, n_embed=128, head_size=32, n_heads=4, n_layers=4, dropout=0.4, mlp_ratio=2, device='cuda'):\n",
    "        super().__init__()\n",
    "        self.tokenizer = Tokenizer(in_channels, n_embed)\n",
    "        self.sequence_length = self.tokenizer(torch.randn(1, in_channels, 32, 32)).shape[1]\n",
    "        self.blocks = nn.ModuleList([Block(n_embed, head_size, n_heads, mlp_ratio, dropout) for _ in range(n_layers)])\n",
    "        self.ln = nn.LayerNorm(n_embed)\n",
    "        self.cl_head = nn.Sequential(\n",
    "            nn.Linear(n_embed, 10)\n",
    "        )\n",
    "        self.positional_embedding = nn.Parameter(torch.randn(1, self.sequence_length, n_embed, device=device), requires_grad=True)\n",
    "        self.sequence_pooling = nn.Linear(n_embed, 1)\n",
    "\n",
    "    def forward(self, x, attention_mask=None, targets=None):\n",
    "        ini_emb = self.tokenizer(x)\n",
    "        B, N, S = ini_emb.shape\n",
    "        pos_emb = self.positional_embedding\n",
    "        x = ini_emb + pos_emb\n",
    "        for block in self.blocks:\n",
    "            x = block(x, attention_mask)\n",
    "        x = self.ln(x)\n",
    "        seq_pool = self.sequence_pooling(x).transpose(-2, -1)\n",
    "        seq_pool = torch.nn.functional.softmax(seq_pool, dim=2)\n",
    "        x = torch.bmm(seq_pool, x).squeeze(1)\n",
    "        x = self.cl_head(x)\n",
    "        return x"
   ]
  },
  {
   "cell_type": "code",
   "execution_count": null,
   "metadata": {
    "id": "rwsHeSt8OgpC",
    "tags": []
   },
   "outputs": [],
   "source": [
    "device = 'cpu'\n",
    "model = ViT(device='cpu').to(device)\n",
    "opt = torch.optim.AdamW(model.parameters(),lr=1e-3)\n",
    "criterion = nn.CrossEntropyLoss()"
   ]
  },
  {
   "cell_type": "code",
   "execution_count": null,
   "metadata": {
    "colab": {
     "base_uri": "https://localhost:8080/",
     "height": 254
    },
    "id": "wmEo9fmbOilc",
    "outputId": "14f7e81c-6ded-4030-fb87-7601344e92b7"
   },
   "outputs": [],
   "source": [
    "opt = torch.optim.AdamW(model.parameters(),lr=3e-4)\n",
    "criterion = nn.CrossEntropyLoss()\n",
    "from tqdm import tqdm\n",
    "accuracy = torch.tensor(0.0)\n",
    "num_epochs = 100\n",
    "train_loader = torch.utils.data.DataLoader(train_data, batch_size=512, shuffle=True)\n",
    "for epoch in range(num_epochs+1):\n",
    "    loop = tqdm(train_loader,leave=False)\n",
    "    for x,y in loop:\n",
    "        x = x.to(device)\n",
    "        y = y.to(device)\n",
    "        pred = model(x)\n",
    "        loss = criterion(pred,y)\n",
    "        opt.zero_grad()\n",
    "        loss.backward()\n",
    "        opt.step()\n",
    "        loop.set_description(f\"Epoch : [{epoch}/{num_epochs}]\")\n",
    "        loop.set_postfix(loss=loss.item(),accuracy = accuracy.item())\n",
    "    if epoch % 1 == 0:\n",
    "        model.eval()\n",
    "        for x,y in test_loader:\n",
    "            x = x.to(device)\n",
    "            y = y.to(device)\n",
    "            pred = model(x)\n",
    "            pred = torch.argmax(pred,dim=1)\n",
    "            break\n",
    "        model.train();\n",
    "        accuracy = (pred == y).type(torch.int32).sum() / len(pred)"
   ]
  },
  {
   "cell_type": "code",
   "execution_count": null,
   "metadata": {
    "colab": {
     "base_uri": "https://localhost:8080/"
    },
    "id": "xOFRw6QjOoAx",
    "outputId": "341f0b31-9854-4c5c-d9ae-f6b72ae4c9f6"
   },
   "outputs": [],
   "source": [
    "sum([p.numel() for p in model.parameters()]) / 1e6"
   ]
  },
  {
   "cell_type": "code",
   "execution_count": null,
   "metadata": {
    "id": "xDhp4HsIbB9q"
   },
   "outputs": [],
   "source": [
    "torch.cuda.empty_cache()"
   ]
  },
  {
   "cell_type": "code",
   "execution_count": null,
   "metadata": {
    "id": "hsBwe1bFcfzv"
   },
   "outputs": [],
   "source": []
  }
 ],
 "metadata": {
  "accelerator": "GPU",
  "colab": {
   "gpuType": "T4",
   "provenance": []
  },
  "kernelspec": {
   "display_name": "Python 3 (ipykernel)",
   "language": "python",
   "name": "python3"
  },
  "language_info": {
   "codemirror_mode": {
    "name": "ipython",
    "version": 3
   },
   "file_extension": ".py",
   "mimetype": "text/x-python",
   "name": "python",
   "nbconvert_exporter": "python",
   "pygments_lexer": "ipython3",
   "version": "3.11.5"
  }
 },
 "nbformat": 4,
 "nbformat_minor": 4
}
